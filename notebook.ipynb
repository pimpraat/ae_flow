{
 "cells": [
  {
   "attachments": {},
   "cell_type": "markdown",
   "metadata": {},
   "source": [
    "## AE-FLOW: Autoencoders with Normalizing Flows for Medical Images Anomaly Detection"
   ]
  },
  {
   "attachments": {},
   "cell_type": "markdown",
   "metadata": {},
   "source": [
    "## Training\n",
    "Training the model requires the following arguments, below each argument you will find the default value, that which is used in the original paper, and in our reproduction experiment.\n",
    "\n",
    "- loss_alpha\n",
    "    - 0.5\n",
    "- loss_beta\n",
    "    - 0.9\n",
    "- optim_lr\n",
    "    - 2e-3 (1e-3 for the chest XRAY dataset)\n",
    "- optim_momentum\n",
    "    - 0.9\n",
    "- optim_weight_decay\n",
    "    - 10e-5 (0 for the chest XRAY dataset)\n",
    "- dataset\n",
    "    - choice out of: chest_xray, OCT2017 and btad\n",
    "- subnet_architecture\n",
    "    - choice out of conv_like and resnet_like\n",
    "- epochs\n",
    "    - 100\n",
    "\n",
    "To train the model(s) of choice, you can use the following command:\n",
    "\n",
    "``` python train.py --loss_alpha 0.5 --loss_beta 0.9 --optim_lr 2e-3 --optim_momentum 0.9 --optim_weight_decay 10e-5 --dataset chest_xray --subnet_architecture conv_like --epochs 100```\n",
    "\n",
    "Without providing any arguments the model will train for 15 epochs using the standard parameters on the chest_xray dataset, using the conv_like subnet. "
   ]
  },
  {
   "cell_type": "code",
   "execution_count": 5,
   "metadata": {},
   "outputs": [
    {
     "name": "stdout",
     "output_type": "stream",
     "text": [
      "test\n"
     ]
    }
   ],
   "source": [
    "!python train.py --loss_alpha 0.5 --loss_beta 0.9 --optim_lr 2e-3 --optim_momentum 0.9 --optim_weight_decay 10e-5 --dataset chest_xray --subnet_architecture conv_like --epochs 1"
   ]
  },
  {
   "attachments": {},
   "cell_type": "markdown",
   "metadata": {},
   "source": [
    "## Evaluation\n",
    "\n",
    "Evaluating a model first requires loading in the data, we can do so using the `load()` function from `dataloader.py`. This function takes in three arguments: dataset, batch_size and num_workers, and outputs four PyTorch dataloaders: train_loader, train_complete, validation_loader, and test_loader. \n",
    "\n",
    "The train_complete loader may seem unfamiliar, this is because during our normal training procedure (using train_loader), we only use samples considered normal. The train_complete loader contains both abnormal and normal samples."
   ]
  },
  {
   "cell_type": "code",
   "execution_count": null,
   "metadata": {},
   "outputs": [],
   "source": [
    "from dataloader import load\n",
    "\n",
    "train_loader, train_complete, val_loader, test_loader = load('chest_xray', batch_size=64, num_workers=4)"
   ]
  },
  {
   "attachments": {},
   "cell_type": "markdown",
   "metadata": {},
   "source": [
    "Once we load in the data, we can utilize the `eval_model()` function from `train.py`. This function takes in three arguments: epoch, model and data_loader. The epoch argument is exclusively used during training and can take any value during evaluation. \n",
    "\n",
    "The `eval_model()` function returns a dictionary containing various performance metrics such as AUC, ACC, SEN, SPE, and F1-score. "
   ]
  },
  {
   "attachments": {},
   "cell_type": "markdown",
   "metadata": {},
   "source": [
    "## Pre-trained Models\n",
    "\n",
    "To use the `eval_model()` function we need to specify a model. Below is a table including all pre-trained models included in this repository.\n",
    "\n",
    "| model | subnet | dataset | epochs | loss_alpha | loss_beta | optim_lr | optim_momentum | optim_weight_decay |\n",
    "| -------- | -------- | -------- | -------- | -------- | -------- | -------- | -------- | -------- |\n",
    "| ae_flow | conv_like | btad | 100 | 0.5 | 0.9 | 0.002 | 0.9 | 0.0001 |\n",
    "| ae_flow | resnet_like | btad | 100 | 0.5 | 0.9 | 0.002 | 0.9 | 0.0001 |\n",
    "| ae_flow | conv_like | OCT2017 | 100 | 0.5 | 0.9 | 0.002 | 0.9 | 0.0001 |\n",
    "| ae_flow | resnet_like | OCT2017 | 100 | 0.5 | 0.9 | 0.002 | 0.9 | 0.0001 |\n",
    "| ae_flow | conv_like | chest_xray | 100 | 0.5 | 0.9 | 0.002 | 0.9 | 0.0001 |\n",
    "| ae_flow | resnet_like | chest_xray | 100 | 0.5 | 0.9 | 0.002 | 0.9 | 0.0001 |\n",
    "\n",
    "To load in the pretrained model weights, we also need to import the network. The network is found in `ae_flow_model.py` and contains the model class; `AE_Flow_Model`, this is where we need to pass the pretrained model into.\n",
    "\n",
    "As an example, below we load in the ae_flow model with resnet_like subnet for the chest_xray dataset."
   ]
  },
  {
   "cell_type": "code",
   "execution_count": null,
   "metadata": {},
   "outputs": [],
   "source": [
    "import torch\n",
    "from model.ae_flow_model import AE_Flow_Model\n",
    "\n",
    "# Here we define the model we want to load in\n",
    "model_params = {'model': 'ae_flow', 'subnet_arc': 'subnet', 'dataset': 'chest_xray', 'epochs': 100, 'loss_alpha': 0.5, 'loss_beta': 0.9, 'optim_lr': 0.001, 'optim_momentum': 0.9, 'optim_weight_decay': 0.0}\n",
    "\n",
    "# Load in the model\n",
    "model = AE_Flow_Model()\n",
    "\n",
    "# Load the pretrained weights into the model\n",
    "model.load_state_dict(torch.load(str(model_params)+'.pt'))\n",
    "\n",
    "# Set the model into evaluation mode\n",
    "model.eval()"
   ]
  },
  {
   "attachments": {},
   "cell_type": "markdown",
   "metadata": {},
   "source": [
    "Now that we have loaded in our data and pretrained model, we can use the `eval_model()` function."
   ]
  },
  {
   "cell_type": "code",
   "execution_count": null,
   "metadata": {},
   "outputs": [],
   "source": [
    "from train import eval_model\n",
    "\n",
    "# Note that here we set the epoch argument to 0, but this can be any value during evaluation\n",
    "test_results = eval_model(0, model, test_loader)"
   ]
  },
  {
   "attachments": {},
   "cell_type": "markdown",
   "metadata": {},
   "source": [
    "## Results\n",
    "\n",
    "Now that we have retrieved the test set results, we can simply print the obtained performance metrics."
   ]
  },
  {
   "cell_type": "code",
   "execution_count": null,
   "metadata": {},
   "outputs": [],
   "source": [
    "for metric in test_results:\n",
    "    print(f'{metric}: {test_results[metric]*100}%')"
   ]
  },
  {
   "attachments": {},
   "cell_type": "markdown",
   "metadata": {},
   "source": [
    "## Contributions\n",
    "* Jan Athmer - Project implementation, debugging\n",
    "\n",
    "* Pim Praat - Project implementation, debugging\n",
    "\n",
    "* Andre de Brandt - Writing notebook/blogpost, debugging\n",
    "\n",
    "* Farrukh Baratov - Writing notebook/blogpost, debugging\n",
    "\n",
    "* Thijs Wijnheijmer - Writing notebook/blogpost, debugging"
   ]
  }
 ],
 "metadata": {
  "kernelspec": {
   "display_name": "ae_flow",
   "language": "python",
   "name": "python3"
  },
  "language_info": {
   "codemirror_mode": {
    "name": "ipython",
    "version": 3
   },
   "file_extension": ".py",
   "mimetype": "text/x-python",
   "name": "python",
   "nbconvert_exporter": "python",
   "pygments_lexer": "ipython3",
   "version": "3.10.11"
  },
  "orig_nbformat": 4
 },
 "nbformat": 4,
 "nbformat_minor": 2
}
